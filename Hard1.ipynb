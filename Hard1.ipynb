{
 "cells": [
  {
   "cell_type": "code",
   "execution_count": 1,
   "metadata": {},
   "outputs": [],
   "source": [
    "import pandas as pd\n",
    "%matplotlib inline\n",
    "import seaborn as sns\n",
    "import matplotlib.pyplot as plt"
   ]
  },
  {
   "cell_type": "markdown",
   "metadata": {},
   "source": [
    "Data load and Adding CR data"
   ]
  },
  {
   "cell_type": "code",
   "execution_count": 2,
   "metadata": {},
   "outputs": [],
   "source": [
    "data=pd.read_excel(\"C:/Users/SEC/Desktop/Hard1.xlsx\")"
   ]
  },
  {
   "cell_type": "code",
   "execution_count": 3,
   "metadata": {},
   "outputs": [],
   "source": [
    "data=pd.read_excel(\"C:/Users/SEC/Desktop/Hard1.xlsx\",header=0,names=['글자세트', '그림세트', '자극세트','연관유무','응답','반응시간'])"
   ]
  },
  {
   "cell_type": "code",
   "execution_count": 4,
   "metadata": {},
   "outputs": [
    {
     "data": {
      "text/html": [
       "<div>\n",
       "<style scoped>\n",
       "    .dataframe tbody tr th:only-of-type {\n",
       "        vertical-align: middle;\n",
       "    }\n",
       "\n",
       "    .dataframe tbody tr th {\n",
       "        vertical-align: top;\n",
       "    }\n",
       "\n",
       "    .dataframe thead th {\n",
       "        text-align: right;\n",
       "    }\n",
       "</style>\n",
       "<table border=\"1\" class=\"dataframe\">\n",
       "  <thead>\n",
       "    <tr style=\"text-align: right;\">\n",
       "      <th></th>\n",
       "      <th>글자세트</th>\n",
       "      <th>그림세트</th>\n",
       "      <th>자극세트</th>\n",
       "      <th>연관유무</th>\n",
       "      <th>응답</th>\n",
       "      <th>반응시간</th>\n",
       "    </tr>\n",
       "  </thead>\n",
       "  <tbody>\n",
       "    <tr>\n",
       "      <td>0</td>\n",
       "      <td>13</td>\n",
       "      <td>37</td>\n",
       "      <td>1</td>\n",
       "      <td>U</td>\n",
       "      <td>q</td>\n",
       "      <td>0.630571</td>\n",
       "    </tr>\n",
       "    <tr>\n",
       "      <td>1</td>\n",
       "      <td>36</td>\n",
       "      <td>7</td>\n",
       "      <td>0</td>\n",
       "      <td>U</td>\n",
       "      <td>r</td>\n",
       "      <td>47.221504</td>\n",
       "    </tr>\n",
       "    <tr>\n",
       "      <td>2</td>\n",
       "      <td>14</td>\n",
       "      <td>14</td>\n",
       "      <td>0</td>\n",
       "      <td>R</td>\n",
       "      <td>r</td>\n",
       "      <td>0.895417</td>\n",
       "    </tr>\n",
       "    <tr>\n",
       "      <td>3</td>\n",
       "      <td>4</td>\n",
       "      <td>4</td>\n",
       "      <td>1</td>\n",
       "      <td>R</td>\n",
       "      <td>r</td>\n",
       "      <td>0.511395</td>\n",
       "    </tr>\n",
       "    <tr>\n",
       "      <td>4</td>\n",
       "      <td>1</td>\n",
       "      <td>1</td>\n",
       "      <td>0</td>\n",
       "      <td>R</td>\n",
       "      <td>r</td>\n",
       "      <td>0.699193</td>\n",
       "    </tr>\n",
       "    <tr>\n",
       "      <td>...</td>\n",
       "      <td>...</td>\n",
       "      <td>...</td>\n",
       "      <td>...</td>\n",
       "      <td>...</td>\n",
       "      <td>...</td>\n",
       "      <td>...</td>\n",
       "    </tr>\n",
       "    <tr>\n",
       "      <td>3835</td>\n",
       "      <td>26</td>\n",
       "      <td>4</td>\n",
       "      <td>0</td>\n",
       "      <td>U</td>\n",
       "      <td>q</td>\n",
       "      <td>1.428068</td>\n",
       "    </tr>\n",
       "    <tr>\n",
       "      <td>3836</td>\n",
       "      <td>30</td>\n",
       "      <td>33</td>\n",
       "      <td>1</td>\n",
       "      <td>U</td>\n",
       "      <td>q</td>\n",
       "      <td>1.684731</td>\n",
       "    </tr>\n",
       "    <tr>\n",
       "      <td>3837</td>\n",
       "      <td>14</td>\n",
       "      <td>12</td>\n",
       "      <td>1</td>\n",
       "      <td>U</td>\n",
       "      <td>q</td>\n",
       "      <td>2.765056</td>\n",
       "    </tr>\n",
       "    <tr>\n",
       "      <td>3838</td>\n",
       "      <td>20</td>\n",
       "      <td>20</td>\n",
       "      <td>1</td>\n",
       "      <td>R</td>\n",
       "      <td>r</td>\n",
       "      <td>0.640602</td>\n",
       "    </tr>\n",
       "    <tr>\n",
       "      <td>3839</td>\n",
       "      <td>39</td>\n",
       "      <td>6</td>\n",
       "      <td>1</td>\n",
       "      <td>U</td>\n",
       "      <td>q</td>\n",
       "      <td>1.814428</td>\n",
       "    </tr>\n",
       "  </tbody>\n",
       "</table>\n",
       "<p>3840 rows × 6 columns</p>\n",
       "</div>"
      ],
      "text/plain": [
       "      글자세트  그림세트  자극세트 연관유무 응답       반응시간\n",
       "0       13    37     1    U  q   0.630571\n",
       "1       36     7     0    U  r  47.221504\n",
       "2       14    14     0    R  r   0.895417\n",
       "3        4     4     1    R  r   0.511395\n",
       "4        1     1     0    R  r   0.699193\n",
       "...    ...   ...   ...  ... ..        ...\n",
       "3835    26     4     0    U  q   1.428068\n",
       "3836    30    33     1    U  q   1.684731\n",
       "3837    14    12     1    U  q   2.765056\n",
       "3838    20    20     1    R  r   0.640602\n",
       "3839    39     6     1    U  q   1.814428\n",
       "\n",
       "[3840 rows x 6 columns]"
      ]
     },
     "execution_count": 4,
     "metadata": {},
     "output_type": "execute_result"
    }
   ],
   "source": [
    "data"
   ]
  },
  {
   "cell_type": "code",
   "execution_count": 5,
   "metadata": {},
   "outputs": [
    {
     "data": {
      "text/plain": [
       "(3840, 6)"
      ]
     },
     "execution_count": 5,
     "metadata": {},
     "output_type": "execute_result"
    }
   ],
   "source": [
    "data.shape"
   ]
  },
  {
   "cell_type": "code",
   "execution_count": 6,
   "metadata": {},
   "outputs": [
    {
     "data": {
      "text/html": [
       "<div>\n",
       "<style scoped>\n",
       "    .dataframe tbody tr th:only-of-type {\n",
       "        vertical-align: middle;\n",
       "    }\n",
       "\n",
       "    .dataframe tbody tr th {\n",
       "        vertical-align: top;\n",
       "    }\n",
       "\n",
       "    .dataframe thead th {\n",
       "        text-align: right;\n",
       "    }\n",
       "</style>\n",
       "<table border=\"1\" class=\"dataframe\">\n",
       "  <thead>\n",
       "    <tr style=\"text-align: right;\">\n",
       "      <th></th>\n",
       "      <th>글자세트</th>\n",
       "      <th>그림세트</th>\n",
       "      <th>자극세트</th>\n",
       "      <th>반응시간</th>\n",
       "    </tr>\n",
       "  </thead>\n",
       "  <tbody>\n",
       "    <tr>\n",
       "      <td>count</td>\n",
       "      <td>3840.0000</td>\n",
       "      <td>3840.0000</td>\n",
       "      <td>3840.000000</td>\n",
       "      <td>3840.000000</td>\n",
       "    </tr>\n",
       "    <tr>\n",
       "      <td>mean</td>\n",
       "      <td>20.5000</td>\n",
       "      <td>20.5000</td>\n",
       "      <td>0.500000</td>\n",
       "      <td>0.817836</td>\n",
       "    </tr>\n",
       "    <tr>\n",
       "      <td>std</td>\n",
       "      <td>11.5449</td>\n",
       "      <td>11.5449</td>\n",
       "      <td>0.500065</td>\n",
       "      <td>1.076897</td>\n",
       "    </tr>\n",
       "    <tr>\n",
       "      <td>min</td>\n",
       "      <td>1.0000</td>\n",
       "      <td>1.0000</td>\n",
       "      <td>0.000000</td>\n",
       "      <td>0.040146</td>\n",
       "    </tr>\n",
       "    <tr>\n",
       "      <td>25%</td>\n",
       "      <td>10.7500</td>\n",
       "      <td>10.7500</td>\n",
       "      <td>0.000000</td>\n",
       "      <td>0.461054</td>\n",
       "    </tr>\n",
       "    <tr>\n",
       "      <td>50%</td>\n",
       "      <td>20.5000</td>\n",
       "      <td>20.5000</td>\n",
       "      <td>0.500000</td>\n",
       "      <td>0.594002</td>\n",
       "    </tr>\n",
       "    <tr>\n",
       "      <td>75%</td>\n",
       "      <td>30.2500</td>\n",
       "      <td>30.2500</td>\n",
       "      <td>1.000000</td>\n",
       "      <td>0.826665</td>\n",
       "    </tr>\n",
       "    <tr>\n",
       "      <td>max</td>\n",
       "      <td>40.0000</td>\n",
       "      <td>40.0000</td>\n",
       "      <td>1.000000</td>\n",
       "      <td>47.221504</td>\n",
       "    </tr>\n",
       "  </tbody>\n",
       "</table>\n",
       "</div>"
      ],
      "text/plain": [
       "            글자세트       그림세트         자극세트         반응시간\n",
       "count  3840.0000  3840.0000  3840.000000  3840.000000\n",
       "mean     20.5000    20.5000     0.500000     0.817836\n",
       "std      11.5449    11.5449     0.500065     1.076897\n",
       "min       1.0000     1.0000     0.000000     0.040146\n",
       "25%      10.7500    10.7500     0.000000     0.461054\n",
       "50%      20.5000    20.5000     0.500000     0.594002\n",
       "75%      30.2500    30.2500     1.000000     0.826665\n",
       "max      40.0000    40.0000     1.000000    47.221504"
      ]
     },
     "execution_count": 6,
     "metadata": {},
     "output_type": "execute_result"
    }
   ],
   "source": [
    "data.describe()"
   ]
  },
  {
   "cell_type": "code",
   "execution_count": 7,
   "metadata": {},
   "outputs": [],
   "source": [
    "data['cr']=data['자극세트']\n",
    "\n",
    "data.loc[(data['연관유무']=='U')&(data['응답']=='q'),\"cr\"]=1\n",
    "data.loc[(data[\"연관유무\"] == \"U\") & (data[\"응답\"] == \"r\"), \"cr\"] = 0\n",
    "data.loc[(data[\"연관유무\"] == \"R\") & (data[\"응답\"] == \"r\"), \"cr\"] = 1\n",
    "data.loc[(data[\"연관유무\"] == \"R\") & (data[\"응답\"] == \"q\"), \"cr\"] = 0"
   ]
  },
  {
   "cell_type": "code",
   "execution_count": 8,
   "metadata": {},
   "outputs": [
    {
     "data": {
      "text/plain": [
       "(3840, 7)"
      ]
     },
     "execution_count": 8,
     "metadata": {},
     "output_type": "execute_result"
    }
   ],
   "source": [
    "data.shape"
   ]
  },
  {
   "cell_type": "code",
   "execution_count": 9,
   "metadata": {},
   "outputs": [
    {
     "data": {
      "text/plain": [
       "array([1, 0], dtype=int64)"
      ]
     },
     "execution_count": 9,
     "metadata": {},
     "output_type": "execute_result"
    }
   ],
   "source": [
    "data['cr'].unique()"
   ]
  },
  {
   "cell_type": "markdown",
   "metadata": {},
   "source": [
    "Data preprocessing"
   ]
  },
  {
   "cell_type": "code",
   "execution_count": 10,
   "metadata": {},
   "outputs": [
    {
     "data": {
      "text/plain": [
       "{'whiskers': [<matplotlib.lines.Line2D at 0x26a422db488>,\n",
       "  <matplotlib.lines.Line2D at 0x26a422e6788>],\n",
       " 'caps': [<matplotlib.lines.Line2D at 0x26a422da688>,\n",
       "  <matplotlib.lines.Line2D at 0x26a422ce0c8>],\n",
       " 'boxes': [<matplotlib.lines.Line2D at 0x26a40659348>],\n",
       " 'medians': [<matplotlib.lines.Line2D at 0x26a422ceb08>],\n",
       " 'fliers': [<matplotlib.lines.Line2D at 0x26a4225b3c8>],\n",
       " 'means': []}"
      ]
     },
     "execution_count": 10,
     "metadata": {},
     "output_type": "execute_result"
    },
    {
     "data": {
      "image/png": "[encoded data removed]",
      "text/plain": [
       "<Figure size 432x288 with 1 Axes>"
      ]
     },
     "metadata": {
      "needs_background": "light"
     },
     "output_type": "display_data"
    }
   ],
   "source": [
    "set0=data[data['자극세트']==0]\n",
    "set0_RT=set0[(set0['반응시간']<1.096)&(set0['반응시간']>0.0402)]\n",
    "plt.boxplot(set0_RT['반응시간'])"
   ]
  },
  {
   "cell_type": "code",
   "execution_count": 11,
   "metadata": {},
   "outputs": [
    {
     "data": {
      "text/plain": [
       "{'whiskers': [<matplotlib.lines.Line2D at 0x26a4228dd08>,\n",
       "  <matplotlib.lines.Line2D at 0x26a4228d3c8>],\n",
       " 'caps': [<matplotlib.lines.Line2D at 0x26a4228d9c8>,\n",
       "  <matplotlib.lines.Line2D at 0x26a4220c908>],\n",
       " 'boxes': [<matplotlib.lines.Line2D at 0x26a422612c8>],\n",
       " 'medians': [<matplotlib.lines.Line2D at 0x26a4220c688>],\n",
       " 'fliers': [<matplotlib.lines.Line2D at 0x26a4220c708>],\n",
       " 'means': []}"
      ]
     },
     "execution_count": 11,
     "metadata": {},
     "output_type": "execute_result"
    },
    {
     "data": {
      "image/png": "[encoded data removed]",
      "text/plain": [
       "<Figure size 432x288 with 1 Axes>"
      ]
     },
     "metadata": {
      "needs_background": "light"
     },
     "output_type": "display_data"
    }
   ],
   "source": [
    "set1 = data[data['자극세트'] == 1]\n",
    "set1_RT = set1[(set1[\"반응시간\"] < 1.076)&(set1[\"반응시간\"] > 0.392)]\n",
    "plt.boxplot(set1_RT['반응시간'])"
   ]
  },
  {
   "cell_type": "markdown",
   "metadata": {},
   "source": [
    "Creating mean vector list"
   ]
  },
  {
   "cell_type": "code",
   "execution_count": 12,
   "metadata": {},
   "outputs": [],
   "source": [
    "mean_set0=[]\n",
    "cr_set0=[]\n",
    "\n",
    "for n in range(1,25):\n",
    "    ddd = set0[80*(n-1):80*n]\n",
    "    ddd1 = ddd[(ddd['반응시간'] < 1.096) & (ddd['반응시간'] > 0.0402)]\n",
    "    mean = ddd1['반응시간'].mean()\n",
    "    mean_set0.append(mean)\n",
    "    cr = ddd1['cr'].sum()\n",
    "    cr1 = cr/len(ddd1['반응시간'])\n",
    "    cr_set0.append(cr1)"
   ]
  },
  {
   "cell_type": "code",
   "execution_count": 13,
   "metadata": {},
   "outputs": [
    {
     "data": {
      "text/plain": [
       "[0.6688407644067842,\n",
       " 0.6636833171864964,\n",
       " 0.705712554386082,\n",
       " 0.583099646478677,\n",
       " 0.47961268860755024,\n",
       " 0.4473845262501072,\n",
       " 0.6434180473685014,\n",
       " 0.5937835030303121,\n",
       " 0.5234324338025672,\n",
       " 0.6542473500000685,\n",
       " 0.5487422041102809,\n",
       " 0.6349103196973208,\n",
       " 0.5264560904109963,\n",
       " 0.5258815064102534,\n",
       " 0.6429930075471689,\n",
       " 0.6559792098039273,\n",
       " 0.5051909075001049,\n",
       " 0.5752098430554421,\n",
       " 0.6379943821918198,\n",
       " 0.4445430000000301,\n",
       " 0.6962275980768027,\n",
       " 0.659755763158644,\n",
       " 0.6064279239997268,\n",
       " 0.6790903957394705]"
      ]
     },
     "execution_count": 13,
     "metadata": {},
     "output_type": "execute_result"
    }
   ],
   "source": [
    "mean_set0"
   ]
  },
  {
   "cell_type": "code",
   "execution_count": 14,
   "metadata": {},
   "outputs": [],
   "source": [
    "mean_set1=[]\n",
    "cr_set1=[]\n",
    "\n",
    "for n in range(1,25):\n",
    "    ddd = set1[80*(n-1):80*n]\n",
    "    ddd1 = ddd[(ddd['반응시간'] < 1.076) & (ddd['반응시간'] > 0.392)]\n",
    "    mean = ddd1['반응시간'].mean()\n",
    "    mean_set1.append(mean)\n",
    "    cr = ddd1['cr'].sum()\n",
    "    cr1 = cr/len(ddd1['반응시간'])\n",
    "    cr_set1.append(cr1)"
   ]
  },
  {
   "cell_type": "code",
   "execution_count": 15,
   "metadata": {},
   "outputs": [
    {
     "data": {
      "text/plain": [
       "[0.9047619047619048,\n",
       " 0.9107142857142857,\n",
       " 0.9272727272727272,\n",
       " 0.9253731343283582,\n",
       " 0.8979591836734694,\n",
       " 0.86,\n",
       " 0.9230769230769231,\n",
       " 0.8805970149253731,\n",
       " 0.8909090909090909,\n",
       " 0.9166666666666666,\n",
       " 0.847457627118644,\n",
       " 0.9333333333333333,\n",
       " 0.8478260869565217,\n",
       " 0.9310344827586207,\n",
       " 0.9148936170212766,\n",
       " 0.9821428571428571,\n",
       " 0.9838709677419355,\n",
       " 0.9873417721518988,\n",
       " 0.927536231884058,\n",
       " 0.8431372549019608,\n",
       " 0.9384615384615385,\n",
       " 0.9487179487179487,\n",
       " 0.9393939393939394,\n",
       " 0.9807692307692307]"
      ]
     },
     "execution_count": 15,
     "metadata": {},
     "output_type": "execute_result"
    }
   ],
   "source": [
    "cr_set1"
   ]
  },
  {
   "cell_type": "markdown",
   "metadata": {},
   "source": [
    "Statistical Testing "
   ]
  },
  {
   "cell_type": "markdown",
   "metadata": {},
   "source": [
    "그래프 모양으로 정규성 판단"
   ]
  },
  {
   "cell_type": "code",
   "execution_count": 16,
   "metadata": {},
   "outputs": [
    {
     "data": {
      "text/plain": [
       "((array([-1.90380091, -1.48287381, -1.22601535, -1.03156092, -0.8698858 ,\n",
       "         -0.7282709 , -0.59996024, -0.48085763, -0.36822879, -0.26009875,\n",
       "         -0.154935  , -0.05146182,  0.05146182,  0.154935  ,  0.26009875,\n",
       "          0.36822879,  0.48085763,  0.59996024,  0.7282709 ,  0.8698858 ,\n",
       "          1.03156092,  1.22601535,  1.48287381,  1.90380091]),\n",
       "  array([0.51103285, 0.52433825, 0.53076988, 0.53293141, 0.55225819,\n",
       "         0.55663816, 0.56766614, 0.58883849, 0.59027767, 0.5989052 ,\n",
       "         0.60979127, 0.61347895, 0.61742055, 0.62523376, 0.6347025 ,\n",
       "         0.63890982, 0.64170512, 0.64353377, 0.64806802, 0.66579428,\n",
       "         0.67359186, 0.7062265 , 0.71455134, 0.71885075])),\n",
       " (0.06210355464518374, 0.6127297801153986, 0.990025721776002))"
      ]
     },
     "execution_count": 16,
     "metadata": {},
     "output_type": "execute_result"
    },
    {
     "data": {
      "image/png": "[encoded data removed]",
      "text/plain": [
       "<Figure size 864x432 with 4 Axes>"
      ]
     },
     "metadata": {
      "needs_background": "light"
     },
     "output_type": "display_data"
    }
   ],
   "source": [
    "from scipy.stats import probplot\n",
    "\n",
    "f, axes = plt.subplots(2, 2, figsize=(12, 6))\n",
    "\n",
    "sns.distplot(mean_set0, hist=True, ax=axes[0][0])\n",
    "probplot(mean_set0, plot=axes[1][0]) #scipy.stats.probplot\n",
    "\n",
    "sns.distplot(mean_set1, hist=True, ax=axes[0][1])\n",
    "probplot(mean_set1, plot=axes[1][1]) #scipy.stats.probplot"
   ]
  },
  {
   "cell_type": "markdown",
   "metadata": {},
   "source": [
    "그림으로 판단한결과 set0은 정규성 따르지 않고 set1은 정규성따름"
   ]
  },
  {
   "cell_type": "markdown",
   "metadata": {},
   "source": [
    "통계로 정규성 판단(사피로 테스트(?))"
   ]
  },
  {
   "cell_type": "code",
   "execution_count": 17,
   "metadata": {},
   "outputs": [
    {
     "name": "stdout",
     "output_type": "stream",
     "text": [
      "(0.9254697561264038, 0.07724202424287796)\n",
      "(0.9669451713562012, 0.5924633741378784)\n"
     ]
    }
   ],
   "source": [
    "import scipy\n",
    "print(scipy.stats.shapiro(mean_set0))\n",
    "print(scipy.stats.shapiro(mean_set1))"
   ]
  },
  {
   "cell_type": "markdown",
   "metadata": {},
   "source": [
    "set0,set1 모두 정규성을 따름"
   ]
  },
  {
   "cell_type": "markdown",
   "metadata": {},
   "source": [
    "paired t-test"
   ]
  },
  {
   "cell_type": "code",
   "execution_count": 18,
   "metadata": {},
   "outputs": [
    {
     "data": {
      "text/plain": [
       "Ttest_relResult(statistic=-2.3177130314328895, pvalue=0.029713779306868558)"
      ]
     },
     "execution_count": 18,
     "metadata": {},
     "output_type": "execute_result"
    }
   ],
   "source": [
    "scipy.stats.ttest_rel(mean_set0, mean_set1, axis=0, nan_policy='propagate')"
   ]
  },
  {
   "cell_type": "markdown",
   "metadata": {},
   "source": [
    "0.05보다 pvalue값이 작아 귀무가설을 기각하므로 두 set간의 반응시간 차이가 의미가 있음을 알 수 있다."
   ]
  },
  {
   "cell_type": "code",
   "execution_count": 19,
   "metadata": {},
   "outputs": [
    {
     "name": "stdout",
     "output_type": "stream",
     "text": [
      "글 - 그림 세트의 평균 반응속도:  0.5959423743007973\n",
      "그림 - 글 세트의 평균 반응속도:  0.6127297801153987\n"
     ]
    }
   ],
   "source": [
    "import numpy as np\n",
    "print('글 - 그림 세트의 평균 반응속도: ', np.array(mean_set0).mean())\n",
    "print('그림 - 글 세트의 평균 반응속도: ', np.array(mean_set1).mean())"
   ]
  },
  {
   "cell_type": "markdown",
   "metadata": {},
   "source": [
    "통계로 정규성 판단(사피로 테스트(?))"
   ]
  },
  {
   "cell_type": "code",
   "execution_count": 20,
   "metadata": {},
   "outputs": [
    {
     "name": "stdout",
     "output_type": "stream",
     "text": [
      "(0.8761765956878662, 0.006967121735215187)\n",
      "(0.943873941898346, 0.1988856941461563)\n"
     ]
    }
   ],
   "source": [
    "import scipy\n",
    "print(scipy.stats.shapiro(cr_set0))\n",
    "print(scipy.stats.shapiro(cr_set1))"
   ]
  },
  {
   "cell_type": "markdown",
   "metadata": {},
   "source": [
    "set0은 정규성을 따르지않고, set1은 정규성을 따름"
   ]
  },
  {
   "cell_type": "code",
   "execution_count": 21,
   "metadata": {},
   "outputs": [
    {
     "data": {
      "text/plain": [
       "WilcoxonResult(statistic=146.0, pvalue=0.9090113066460508)"
      ]
     },
     "execution_count": 21,
     "metadata": {},
     "output_type": "execute_result"
    }
   ],
   "source": [
    "scipy.stats.wilcoxon(cr_set0, cr_set1, zero_method='wilcox', correction=False, alternative='two-sided')"
   ]
  },
  {
   "cell_type": "markdown",
   "metadata": {},
   "source": [
    "0.05보다 pvalue값이 크므로 귀무가설을 채택하여 두 set의 정답률 차이가 의미가 없고 우연임을 알 수 있다."
   ]
  },
  {
   "cell_type": "code",
   "execution_count": 22,
   "metadata": {},
   "outputs": [
    {
     "name": "stdout",
     "output_type": "stream",
     "text": [
      "글 - 그림 세트의 평균 정답률:  0.9154973614477976\n",
      "그림 - 글 세트의 평균 정답률:  0.9184686591534401\n"
     ]
    }
   ],
   "source": [
    "import numpy as np\n",
    "print('글 - 그림 세트의 평균 정답률: ', np.array(cr_set0).mean())\n",
    "print('그림 - 글 세트의 평균 정답률: ', np.array(cr_set1).mean())"
   ]
  },
  {
   "cell_type": "code",
   "execution_count": null,
   "metadata": {},
   "outputs": [],
   "source": []
  }
 ],
 "metadata": {
  "kernelspec": {
   "display_name": "Python 3",
   "language": "python",
   "name": "python3"
  },
  "language_info": {
   "codemirror_mode": {
    "name": "ipython",
    "version": 3
   },
   "file_extension": ".py",
   "mimetype": "text/x-python",
   "name": "python",
   "nbconvert_exporter": "python",
   "pygments_lexer": "ipython3",
   "version": "3.7.4"
  }
 },
 "nbformat": 4,
 "nbformat_minor": 2
}
